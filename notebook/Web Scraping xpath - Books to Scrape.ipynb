{
 "cells": [
  {
   "cell_type": "code",
   "execution_count": null,
   "metadata": {},
   "outputs": [],
   "source": [
    "import requests\n",
    "import lxml.html as html\n",
    "import pandas as pd"
   ]
  },
  {
   "cell_type": "code",
   "execution_count": null,
   "metadata": {},
   "outputs": [],
   "source": [
    "url_padre='https://books.toscrape.com/index.html'\n",
    "root_url='https://books.toscrape.com/'"
   ]
  },
  {
   "cell_type": "markdown",
   "metadata": {},
   "source": [
    "# Espressioni xpath"
   ]
  },
  {
   "cell_type": "code",
   "execution_count": null,
   "metadata": {},
   "outputs": [],
   "source": [
    "#links con le categorie dei libri\n",
    "links_categorie='//ul[@class=\"nav nav-list\"]/li//ul/li/a/@href'\n",
    "#titolo libro\n",
    "titolo='//article[@class=\"product_pod\"]//h3/a/text()'\n",
    "#prezzo libro\n",
    "prezzi='//div[@class=\"product_price\"]/p[@class=\"price_color\"]/text()'"
   ]
  },
  {
   "cell_type": "code",
   "execution_count": null,
   "metadata": {},
   "outputs": [],
   "source": [
    "r=requests.get(url_padre)\n",
    "home=r.content.decode('utf-8')\n",
    "parser=html.fromstring(home)"
   ]
  },
  {
   "cell_type": "code",
   "execution_count": null,
   "metadata": {},
   "outputs": [],
   "source": [
    "categorie_url=parser.xpath(links_categorie)\n",
    "categorie_url=[root_url+x for x in categorie_url]\n",
    "categorie_url"
   ]
  },
  {
   "cell_type": "code",
   "execution_count": null,
   "metadata": {},
   "outputs": [],
   "source": [
    "categorie_url[3]"
   ]
  },
  {
   "cell_type": "code",
   "execution_count": null,
   "metadata": {},
   "outputs": [],
   "source": [
    "r=requests.get(categorie_url[3])\n",
    "home=r.content.decode('utf-8')\n",
    "parser=html.fromstring(home)\n",
    "titoli_book=parser.xpath(titolo)\n",
    "prz=parser.xpath(prezzi)\n",
    "print(list(zip(titoli_book, prz)))"
   ]
  },
  {
   "cell_type": "markdown",
   "metadata": {},
   "source": [
    "# Generare funzioni SCRAPER"
   ]
  },
  {
   "cell_type": "code",
   "execution_count": null,
   "metadata": {},
   "outputs": [],
   "source": [
    "def get_urls(url_padre):\n",
    "    root_url='https://books.toscrape.com/'\n",
    "    \n",
    "    links_categorie='//ul[@class=\"nav nav-list\"]/li//ul/li/a/@href'\n",
    "    r=requests.get(url_padre)\n",
    "    home=r.content.decode('utf-8')\n",
    "    \n",
    "    parser=html.fromstring(home)\n",
    "\n",
    "    categorie_url=parser.xpath(links_categorie)\n",
    "    categorie_url=[root_url+x for x in categorie_url]\n",
    "    return categorie_url\n",
    "    "
   ]
  },
  {
   "cell_type": "code",
   "execution_count": null,
   "metadata": {},
   "outputs": [],
   "source": [
    "def parser_content(url):\n",
    "    contenuto_dic={}\n",
    "    \n",
    "    r=requests.get(url)\n",
    "\n",
    "    home=r.content.decode('utf-8')\n",
    "\n",
    "    parser=html.fromstring(home)\n",
    "    if r.status_code==200:\n",
    "        #titoli\n",
    "        xpath_titolo='//article[@class=\"product_pod\"]//h3/a/text()'\n",
    "        titoli=parser.xpath(xpath_titolo)\n",
    "        contenuto_dic['Book Title']=titoli\n",
    "        #prezzi\n",
    "        xpath_prezzi='//div[@class=\"product_price\"]/p[@class=\"price_color\"]/text()'\n",
    "        prezzi=parser.xpath(xpath_prezzi)\n",
    "        contenuto_dic['Book Price']=prezzi\n",
    "    return contenuto_dic\n",
    "    "
   ]
  },
  {
   "cell_type": "code",
   "execution_count": null,
   "metadata": {},
   "outputs": [],
   "source": [
    "links_da_cercare=get_urls(url_padre)"
   ]
  },
  {
   "cell_type": "code",
   "execution_count": null,
   "metadata": {},
   "outputs": [],
   "source": [
    "len(links_da_cercare)"
   ]
  },
  {
   "cell_type": "code",
   "execution_count": null,
   "metadata": {},
   "outputs": [],
   "source": [
    "data=[]\n",
    "for indx,i in enumerate(links_da_cercare):\n",
    "    print(f'Scraping della pagina numero {indx}')\n",
    "    data.append(parser_content(i))"
   ]
  },
  {
   "cell_type": "code",
   "execution_count": null,
   "metadata": {},
   "outputs": [],
   "source": [
    "data"
   ]
  },
  {
   "cell_type": "markdown",
   "metadata": {},
   "source": [
    "# Creazione DATAFRAME"
   ]
  },
  {
   "cell_type": "code",
   "execution_count": null,
   "metadata": {},
   "outputs": [],
   "source": [
    "df=pd.DataFrame()\n",
    "for j in data:\n",
    "    df_uno=pd.DataFrame(j)\n",
    "    df=pd.concat([df,df_uno])"
   ]
  },
  {
   "cell_type": "code",
   "execution_count": null,
   "metadata": {},
   "outputs": [],
   "source": [
    "df.head()"
   ]
  }
 ],
 "metadata": {
  "kernelspec": {
   "display_name": "Python 3 (ipykernel)",
   "language": "python",
   "name": "python3"
  },
  "language_info": {
   "codemirror_mode": {
    "name": "ipython",
    "version": 3
   },
   "file_extension": ".py",
   "mimetype": "text/x-python",
   "name": "python",
   "nbconvert_exporter": "python",
   "pygments_lexer": "ipython3",
   "version": "3.8.2"
  },
  "toc": {
   "base_numbering": 1,
   "nav_menu": {},
   "number_sections": true,
   "sideBar": true,
   "skip_h1_title": false,
   "title_cell": "Table of Contents",
   "title_sidebar": "Contents",
   "toc_cell": false,
   "toc_position": {},
   "toc_section_display": true,
   "toc_window_display": false
  }
 },
 "nbformat": 4,
 "nbformat_minor": 4
}
